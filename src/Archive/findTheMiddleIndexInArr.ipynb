{
 "cells": [
  {
   "cell_type": "markdown",
   "source": [
    "# 找到数组的中间位置\n",
    "\n",
    "[题目链接](https://leetcode.cn/problems/find-the-middle-index-in-array/description/)\n",
    "\n"
   ],
   "metadata": {
    "collapsed": false
   },
   "id": "e6df1093440bdfbe"
  },
  {
   "metadata": {
    "ExecuteTime": {
     "end_time": "2024-05-04T12:52:40.579641Z",
     "start_time": "2024-05-04T12:52:40.576661Z"
    }
   },
   "cell_type": "code",
   "source": "from typing import List",
   "id": "f36ae04016188670",
   "outputs": [],
   "execution_count": 4
  },
  {
   "metadata": {},
   "cell_type": "markdown",
   "source": [
    "在题解中看到一个米哈游大佬的代码，他自己的解题思路写了一句“前缀和暴力破解”，有点不太明白这句话的含义。但是代码很清晰，这比我自己的想法好太多了（而且我的还没有完全通过）\n",
    "\n",
    "下面是大佬的解法："
   ],
   "id": "6e85d0fe67e4de05"
  },
  {
   "cell_type": "code",
   "source": [
    "class Solution:\n",
    "    def findMiddleIndex(self, nums: List[int]) -> int:\n",
    "        prev_sum, total = 0, sum(nums)\n",
    "        for i in range(len(nums)):\n",
    "            if prev_sum*2 + nums[i] == total:\n",
    "                return i\n",
    "            prev_sum += nums[i]\n",
    "        return -1\n"
   ],
   "metadata": {
    "collapsed": false,
    "ExecuteTime": {
     "end_time": "2024-05-04T12:52:40.908969Z",
     "start_time": "2024-05-04T12:52:40.904322Z"
    }
   },
   "id": "c70f8e3f2ca8048d",
   "outputs": [],
   "execution_count": 5
  },
  {
   "metadata": {},
   "cell_type": "markdown",
   "source": "另外，还有一个速度很快的极具Python特色的解法，也写在这里，用作参考：\n",
   "id": "fb0100afcaf1f7e5"
  },
  {
   "metadata": {
    "ExecuteTime": {
     "end_time": "2024-05-04T12:52:41.239780Z",
     "start_time": "2024-05-04T12:52:41.234959Z"
    }
   },
   "cell_type": "code",
   "source": [
    "class Solution:\n",
    "    def findMiddleIndex(self, nums: List[int]) -> int:\n",
    "        for i in range(len(nums)):\n",
    "            if sum(nums[:i]) == sum(nums[i+1:]):\n",
    "                return i\n",
    "        return -1"
   ],
   "id": "76f65aa63f161bf5",
   "outputs": [],
   "execution_count": 6
  },
  {
   "metadata": {},
   "cell_type": "code",
   "outputs": [],
   "execution_count": null,
   "source": "",
   "id": "2debfe58223ae29e"
  }
 ],
 "metadata": {
  "kernelspec": {
   "display_name": "Python 3",
   "language": "python",
   "name": "python3"
  },
  "language_info": {
   "codemirror_mode": {
    "name": "ipython",
    "version": 2
   },
   "file_extension": ".py",
   "mimetype": "text/x-python",
   "name": "python",
   "nbconvert_exporter": "python",
   "pygments_lexer": "ipython2",
   "version": "2.7.6"
  }
 },
 "nbformat": 4,
 "nbformat_minor": 5
}
