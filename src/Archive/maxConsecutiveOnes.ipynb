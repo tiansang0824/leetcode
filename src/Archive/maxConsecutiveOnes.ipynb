{
 "cells": [
  {
   "cell_type": "markdown",
   "source": [
    "# 最大连续1的个数\n"
   ],
   "metadata": {
    "collapsed": false
   },
   "id": "dbedfe9a4047281a"
  },
  {
   "cell_type": "code",
   "outputs": [],
   "source": [
    "from typing import List\n",
    "\n",
    "class Solution:\n",
    "    def findMaxConsecutiveOnes(self, nums: List[int]) -> int:\n",
    "        # 找出列表nums中最大连续个1的个数\n",
    "        max_count = 0  # 记录最大连续个数\n",
    "        one_count = 0  # 记录当前连续个数\n",
    "        \n",
    "        for num in nums:\n",
    "            if num == 1:\n",
    "                one_count += 1\n",
    "            else:\n",
    "                if one_count > max_count:\n",
    "                    max_count = one_count\n",
    "                one_count = 0\n",
    "\n",
    "        max_count = max(max_count, one_count)  # 选择最大值\n",
    "        return max_count\n",
    "            "
   ],
   "metadata": {
    "collapsed": false,
    "ExecuteTime": {
     "end_time": "2024-05-03T11:28:42.317554Z",
     "start_time": "2024-05-03T11:28:42.304765Z"
    }
   },
   "id": "726bf05dfa9a450e",
   "execution_count": 2
  },
  {
   "cell_type": "code",
   "outputs": [],
   "source": [],
   "metadata": {
    "collapsed": false
   },
   "id": "34fa19b73446bb81",
   "execution_count": null
  }
 ],
 "metadata": {
  "kernelspec": {
   "display_name": "Python 3",
   "language": "python",
   "name": "python3"
  },
  "language_info": {
   "codemirror_mode": {
    "name": "ipython",
    "version": 2
   },
   "file_extension": ".py",
   "mimetype": "text/x-python",
   "name": "python",
   "nbconvert_exporter": "python",
   "pygments_lexer": "ipython2",
   "version": "2.7.6"
  }
 },
 "nbformat": 4,
 "nbformat_minor": 5
}
