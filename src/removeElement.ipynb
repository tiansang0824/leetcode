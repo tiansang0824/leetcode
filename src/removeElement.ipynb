{
 "cells": [
  {
   "metadata": {},
   "cell_type": "markdown",
   "source": "# 移除元素\n",
   "id": "7ec67a14fec99bf8"
  },
  {
   "metadata": {},
   "cell_type": "markdown",
   "source": [
    "这里给了两个解法，但是相对于第二种，我觉得第一种思路更加适合学习。\n",
    "\n",
    "第一种方法中的双指针，效果类似于链表中的快慢指针方法，在链表中应用到快慢指针的时候，最简单的应用是探测链表中是否存在环，而在这里，快慢指针可以用于从后向前“搬运元素”，对于这道题目来说再适合不过。\n",
    "\n"
   ],
   "id": "b6c279d4eaef2984"
  },
  {
   "metadata": {},
   "cell_type": "markdown",
   "source": [
    "下面是一种建议解法（尽管这个解法我也没想到。。。）\n",
    "\n",
    "这个解法采用了双指针的方式，用a指针探测后面的数，用b指针停留在第一个目标元素上，每当检测到a的位置不是目标元素时，就把这个非目标的元素挪动到b的位置。\n"
   ],
   "id": "f49b4e29c59a2549"
  },
  {
   "metadata": {},
   "cell_type": "code",
   "source": "from typing import List",
   "id": "c8483a3f0b3e5e36",
   "outputs": [],
   "execution_count": null
  },
  {
   "metadata": {},
   "cell_type": "code",
   "source": [
    "class Solution:\n",
    "    def removeElement(self, nums: List[int], val: int) -> int:\n",
    "        a = 0\n",
    "        b = 0\n",
    "\n",
    "        while a < len(nums):\n",
    "            if nums[a] != val:\n",
    "                nums[b] = nums[a]\n",
    "                b += 1\n",
    "            a += 1\n",
    "\n",
    "        return b"
   ],
   "id": "3a5e8abfe60e28fa",
   "outputs": [],
   "execution_count": null
  },
  {
   "metadata": {},
   "cell_type": "markdown",
   "source": [
    "第一种解法的速度没有很大的优势，所以我计划再找一个解法。\n",
    "\n",
    "这种解法在测试的时候稍微快一点，用的是Python自带的列表操作函数。\n"
   ],
   "id": "36eb0be6135ff3bc"
  },
  {
   "metadata": {},
   "cell_type": "code",
   "source": [
    "class Solution:\n",
    "    def removeElement(self, nums: List[int], val: int) -> int:\n",
    "        i = 0\n",
    "        while i < len(nums):\n",
    "            if nums[i] == val:\n",
    "                nums.pop(i)\n",
    "            else:\n",
    "                i += 1\n",
    "        return len(nums)\n"
   ],
   "id": "f2f276df45080ae0",
   "outputs": [],
   "execution_count": null
  },
  {
   "metadata": {},
   "cell_type": "code",
   "source": "",
   "id": "4a7191ef0fedabff",
   "outputs": [],
   "execution_count": null
  }
 ],
 "metadata": {
  "kernelspec": {
   "display_name": "Python 3",
   "language": "python",
   "name": "python3"
  },
  "language_info": {
   "codemirror_mode": {
    "name": "ipython",
    "version": 2
   },
   "file_extension": ".py",
   "mimetype": "text/x-python",
   "name": "python",
   "nbconvert_exporter": "python",
   "pygments_lexer": "ipython2",
   "version": "2.7.6"
  }
 },
 "nbformat": 4,
 "nbformat_minor": 5
}
