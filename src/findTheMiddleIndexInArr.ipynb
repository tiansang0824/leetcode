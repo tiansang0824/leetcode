{
 "cells": [
  {
   "cell_type": "markdown",
   "source": [
    "# 找到数组的中间位置"
   ],
   "metadata": {
    "collapsed": false
   },
   "id": "e6df1093440bdfbe"
  },
  {
   "cell_type": "code",
   "outputs": [],
   "source": [
    "class Solution:\n",
    "    def findMiddleIndex(self, nums: List[int]) -> int:\n",
    "        # 直接暴力解\n",
    "        mid_index = 0\n",
    "\n",
    "        for i in range(len(nums)):\n",
    "            # 针对左侧第一个元素的计算\n",
    "            if mid_index == 0:\n",
    "                right_sum = 0\n",
    "                left_sum = 0\n",
    "                # 计算右边元素和\n",
    "                for i in range(2, len(nums)):\n",
    "                    right_sum += nums[i]\n",
    "                if left_sum == right_sum:\n",
    "                    return 0\n",
    "            # 计算左边元素和\n",
    "            for i in range(0, mid_index):\n",
    "                left_sum += nums[i]\n",
    "                \n",
    "            # 计算右边元素和\n",
    "\n",
    "            # 判断该下标是否是中间下标\n",
    "\n",
    "        return -1"
   ],
   "metadata": {
    "collapsed": false
   },
   "id": "c70f8e3f2ca8048d",
   "execution_count": null
  }
 ],
 "metadata": {
  "kernelspec": {
   "display_name": "Python 3",
   "language": "python",
   "name": "python3"
  },
  "language_info": {
   "codemirror_mode": {
    "name": "ipython",
    "version": 2
   },
   "file_extension": ".py",
   "mimetype": "text/x-python",
   "name": "python",
   "nbconvert_exporter": "python",
   "pygments_lexer": "ipython2",
   "version": "2.7.6"
  }
 },
 "nbformat": 4,
 "nbformat_minor": 5
}
