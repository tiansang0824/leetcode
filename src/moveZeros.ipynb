{
 "cells": [
  {
   "cell_type": "markdown",
   "source": [
    "# 移动0\n"
   ],
   "metadata": {
    "collapsed": false
   },
   "id": "23d272369f5314ee"
  },
  {
   "cell_type": "markdown",
   "source": [
    "第一种做法：\n",
    "\n",
    "这种解法采用了双指针的方式，在思路上可以这么考虑：\n",
    "\n",
    "由于题目要在保持非零元素的相对位置不变的情况下将所有零移动到最后面，那么就可以假设0的位置都是空值，只要把后面的元素全部挪到前面占用掉空值的位置，然后有几个空值就吧最后几个空位赋值为0即可。\n",
    "\n",
    "在下面的代码中，第一个for循环的作用就是用后面的非零元素将前面所有0的位置填充掉；第二个for循环的作用是将最后几个位置用0填充。\n",
    "\n",
    "这个方法虽然实质上没有对数组/列表中的0进行挪动，但是在结果上达成了目的，而且效率很高。\n"
   ],
   "metadata": {
    "collapsed": false
   },
   "id": "4fbe4d0d8b76237f"
  },
  {
   "cell_type": "code",
   "outputs": [],
   "source": [
    "from typing import List\n",
    "\n",
    "\n",
    "class Solution:\n",
    "    def moveZeroes(self, nums: List[int]) -> None:\n",
    "        \"\"\"\n",
    "        Do not return anything, modify nums in-place instead.\n",
    "        \"\"\"\n",
    "        count = 0\n",
    "        for i in range(len(nums)):\n",
    "            if nums[i] != 0:\n",
    "                if nums[i]:\n",
    "                    nums[count] = nums[i]\n",
    "                    count += 1\n",
    "        for i in range(count, len(nums)):\n",
    "            nums[i] = 0\n",
    "            "
   ],
   "metadata": {
    "collapsed": false,
    "ExecuteTime": {
     "end_time": "2024-05-03T12:30:51.334001Z",
     "start_time": "2024-05-03T12:30:51.327968Z"
    }
   },
   "id": "b294bcbe6a29fab9",
   "execution_count": 1
  },
  {
   "cell_type": "markdown",
   "source": [
    "第二种方法：\n",
    "\n"
   ],
   "metadata": {
    "collapsed": false
   },
   "id": "c127e3d15667e7d0"
  }
 ],
 "metadata": {
  "kernelspec": {
   "display_name": "Python 3",
   "language": "python",
   "name": "python3"
  },
  "language_info": {
   "codemirror_mode": {
    "name": "ipython",
    "version": 2
   },
   "file_extension": ".py",
   "mimetype": "text/x-python",
   "name": "python",
   "nbconvert_exporter": "python",
   "pygments_lexer": "ipython2",
   "version": "2.7.6"
  }
 },
 "nbformat": 4,
 "nbformat_minor": 5
}
