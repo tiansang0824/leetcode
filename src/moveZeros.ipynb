{
 "cells": [
  {
   "cell_type": "markdown",
   "source": [
    "# 移动0\n"
   ],
   "metadata": {
    "collapsed": false
   },
   "id": "23d272369f5314ee"
  },
  {
   "cell_type": "code",
   "outputs": [],
   "source": [
    "from typing import List\n",
    "\n",
    "\n",
    "class Solution:\n",
    "    def moveZeroes(self, nums: List[int]) -> None:\n",
    "        \"\"\"\n",
    "        Do not return anything, modify nums in-place instead.\n",
    "        \"\"\"\n",
    "        count = 0\n",
    "        for i in range(len(nums)):\n",
    "            if nums[i] != 0:\n",
    "                if nums[i]:\n",
    "                    nums[count] = nums[i]\n",
    "                    count += 1\n",
    "        for i in range(count, len(nums)):\n",
    "            nums[i] = 0\n",
    "            "
   ],
   "metadata": {
    "collapsed": false
   },
   "id": "b294bcbe6a29fab9"
  }
 ],
 "metadata": {
  "kernelspec": {
   "display_name": "Python 3",
   "language": "python",
   "name": "python3"
  },
  "language_info": {
   "codemirror_mode": {
    "name": "ipython",
    "version": 2
   },
   "file_extension": ".py",
   "mimetype": "text/x-python",
   "name": "python",
   "nbconvert_exporter": "python",
   "pygments_lexer": "ipython2",
   "version": "2.7.6"
  }
 },
 "nbformat": 4,
 "nbformat_minor": 5
}
